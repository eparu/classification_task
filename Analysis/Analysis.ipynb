{
 "cells": [
  {
   "cell_type": "code",
   "execution_count": 1,
   "id": "south-bacon",
   "metadata": {},
   "outputs": [
    {
     "name": "stdout",
     "output_type": "stream",
     "text": [
      "/Users/svetlanapelesova/project\n"
     ]
    }
   ],
   "source": [
    "import os\n",
    "retval = os.getcwd()\n",
    "print(retval)"
   ]
  },
  {
   "cell_type": "code",
   "execution_count": 2,
   "id": "sized-spank",
   "metadata": {},
   "outputs": [],
   "source": [
    "os.chdir(\"/Users/svetlanapelesova/project\") #изменение директории на рабочую"
   ]
  },
  {
   "cell_type": "code",
   "execution_count": 3,
   "id": "forbidden-secret",
   "metadata": {},
   "outputs": [
    {
     "name": "stdout",
     "output_type": "stream",
     "text": [
      "/Users/svetlanapelesova/project\n"
     ]
    }
   ],
   "source": [
    "retval = os.getcwd()\n",
    "print(retval)"
   ]
  },
  {
   "cell_type": "code",
   "execution_count": 4,
   "id": "trained-soundtrack",
   "metadata": {},
   "outputs": [],
   "source": [
    "import numpy as np\n",
    "import pandas as pd\n",
    "import random\n",
    "import tensorflow as tf\n",
    "from tensorflow import keras\n",
    "from keras.utils import to_categorical"
   ]
  },
  {
   "cell_type": "code",
   "execution_count": 5,
   "id": "viral-fortune",
   "metadata": {},
   "outputs": [],
   "source": [
    "def grouper(x):\n",
    "        return x.strip()[0:1].isdigit()"
   ]
  },
  {
   "cell_type": "code",
   "execution_count": 6,
   "id": "black-master",
   "metadata": {},
   "outputs": [],
   "source": [
    "def frequency(data): \n",
    "    counters = {}\n",
    "    #labels = ['CL', 'CLOL', 'CLOS', 'CS', 'CSOL', 'CSOS', 'OL', 'OS', 'WW']\n",
    "    labels = ['L', 'S', 'C']\n",
    "    for i in labels:\n",
    "        counters[i] = 0\n",
    "    for i in data:\n",
    "        counters[i] += 1\n",
    "    return counters  "
   ]
  },
  {
   "cell_type": "code",
   "execution_count": 8,
   "id": "angry-evans",
   "metadata": {
    "scrolled": false
   },
   "outputs": [],
   "source": [
    "from itertools import groupby,islice\n",
    "#titles_to_delete = ['BZ', 'CL', 'NG', 'AH', 'RB', 'GC', 'HO', 'CA', 'NI','SN','PA','PL','ZW','YO','PB','SI','ZS', 'INX','RTSI', 'IMOEX']\n",
    "frec_sum = {'L': 0, 'S' : 0, 'C': 0}\n",
    "file = open('statistics.txt', 'w')\n",
    "with open(\"tagged_charts.data\") as f:\n",
    "    for k, v in groupby(islice(f, 0, None),key=grouper):\n",
    "        val = list(v)\n",
    "        if k:\n",
    "            a = list();\n",
    "            for x in val:\n",
    "                a.append(x.replace(\",\", \" \"))\n",
    "            val2 = list(map(str.split, a))\n",
    "            #здесь указываются названия колонок\n",
    "            df = pd.DataFrame(val2, columns=\n",
    "                              ['1','2','3','4','5','6','7','8','9','10','11','12','13','14','15'])\n",
    "            #изначально он определил тип данных в колонках как \"object\", и далее меняю тип на соответствующий\n",
    "            for i in df.columns.values[:-1]:\n",
    "                df[i] = pd.to_numeric(df[i])\n",
    "            df['15'] = df['15'].astype(str)\n",
    "            \n",
    "            frec = frequency(df['15'])\n",
    "            for i in ['L', 'S', 'C']:\n",
    "                frec_sum[i] += frec[i]\n",
    "            frec_per = {'L': 0, 'S' : 0, 'C': 0}\n",
    "            for i in ['L', 'S', 'C']:\n",
    "                frec_per[i] = int(frec[i] / total_labels * 100)\n",
    "            for i in ['L', 'S', 'C']:\n",
    "                file.write(i + ': ' + str(frec[i]) + \", \" + str(frec_per[i]) + '%')\n",
    "                if i != 'C':\n",
    "                    file.write('; ')\n",
    "            file.write('\\n\\n')\n",
    "        elif val[-1] == 'Top Total\\n':\n",
    "            break\n",
    "        else:\n",
    "            title = val[0]\n",
    "            file.write(str(title))\n",
    "            total_labels = int(title.split()[2])\n",
    "total_points = 0\n",
    "for i in ['L', 'S', 'C']:\n",
    "    total_points += frec_sum[i]\n",
    "file.write('Total:\\n')\n",
    "for i in ['L', 'S', 'C']:\n",
    "    file.write(i + ': ' + str(frec_sum[i]) + \", \" + str(int(frec_sum[i] / total_points * 100)) + '%')\n",
    "    if i != 'C':\n",
    "        file.write('; ')"
   ]
  },
  {
   "cell_type": "code",
   "execution_count": null,
   "id": "integral-restriction",
   "metadata": {},
   "outputs": [],
   "source": []
  }
 ],
 "metadata": {
  "kernelspec": {
   "display_name": "Python 3",
   "language": "python",
   "name": "python3"
  },
  "language_info": {
   "codemirror_mode": {
    "name": "ipython",
    "version": 3
   },
   "file_extension": ".py",
   "mimetype": "text/x-python",
   "name": "python",
   "nbconvert_exporter": "python",
   "pygments_lexer": "ipython3",
   "version": "3.6.13"
  }
 },
 "nbformat": 4,
 "nbformat_minor": 5
}
